{
  "cells": [
    {
      "cell_type": "code",
      "execution_count": 1,
      "metadata": {
        "id": "k7vtkZlwVnps"
      },
      "outputs": [],
      "source": [
        "import pandas as pd\n",
        "import numpy as np\n",
        "import tensorflow as tf"
      ]
    },
    {
      "cell_type": "code",
      "execution_count": null,
      "metadata": {
        "id": "yh4hA97fV_8l"
      },
      "outputs": [],
      "source": [
        "!git clone https://github.com/Franck-Dernoncourt/pubmed-rct.git\n",
        "!ls pubmed-rct"
      ]
    },
    {
      "cell_type": "code",
      "execution_count": null,
      "metadata": {
        "id": "utkuZcOP53Y5"
      },
      "outputs": [],
      "source": [
        "\n",
        "!unzip -j -n /content/pubmed-rct/PubMed_200k_RCT_numbers_replaced_with_at_sign/train.zip -d /content/\n"
      ]
    },
    {
      "cell_type": "code",
      "execution_count": 4,
      "metadata": {
        "id": "fovKEmBI59y1"
      },
      "outputs": [],
      "source": [
        "data_path = '/content/train.txt'"
      ]
    },
    {
      "cell_type": "code",
      "execution_count": 5,
      "metadata": {
        "id": "ytbxpU1Z6JKx"
      },
      "outputs": [],
      "source": [
        "import os"
      ]
    },
    {
      "cell_type": "code",
      "execution_count": 6,
      "metadata": {
        "id": "RuvprldHYP20"
      },
      "outputs": [],
      "source": [
        "def frame_the_data(data_path):\n",
        "  with open(data_path ,'r') as f:\n",
        "    input_lines = f.readlines()\n",
        "\n",
        "  abstract_lines = \"\"\n",
        "  abstract_samples = []\n",
        "\n",
        "\n",
        "  for line in input_lines:\n",
        "    if line.startswith(\"###\"):\n",
        "      abstract_id = line\n",
        "      abstract_lines = \"\"\n",
        "    elif line.isspace():\n",
        "      abstract_line_split = abstract_lines.splitlines()\n",
        "\n",
        "      for abstract_line_number, abstract_line in enumerate(abstract_line_split):\n",
        "        line_data = {}\n",
        "        target_text_split = abstract_line.split(\"\\t\")\n",
        "        line_data[\"target\"] = target_text_split[0]\n",
        "        line_data[\"text\"] = target_text_split[1].lower()\n",
        "        line_data[\"line_number\"] = abstract_line_number\n",
        "        line_data[\"total_lines\"] = len(abstract_line_split) - 1\n",
        "        abstract_samples.append(line_data)\n",
        "\n",
        "    else:\n",
        "      abstract_lines += line\n",
        "  return abstract_samples\n",
        "\n"
      ]
    },
    {
      "cell_type": "code",
      "execution_count": 7,
      "metadata": {
        "id": "QCGFYtkZYqtH"
      },
      "outputs": [],
      "source": [
        "train_data=frame_the_data('/content/train.txt')\n",
        "test_data=frame_the_data(\"/content/pubmed-rct/PubMed_200k_RCT_numbers_replaced_with_at_sign/dev.txt\")\n"
      ]
    },
    {
      "cell_type": "code",
      "execution_count": null,
      "metadata": {
        "id": "uV1-Hq_eleEy"
      },
      "outputs": [],
      "source": [
        "train_samples"
      ]
    },
    {
      "cell_type": "code",
      "execution_count": null,
      "metadata": {
        "id": "FVcDZfHHlfQe"
      },
      "outputs": [],
      "source": [
        "test_samples"
      ]
    },
    {
      "cell_type": "code",
      "execution_count": 11,
      "metadata": {
        "id": "QiZi5523mf4m"
      },
      "outputs": [],
      "source": [
        "train_statments= train_samples['text'].to_list()\n",
        "train_labels= train_samples['target'].to_list()\n",
        "\n",
        "test_statments= test_samples['text'].to_list()\n",
        "test_labels= test_samples['target'].to_list()\n"
      ]
    },
    {
      "cell_type": "code",
      "source": [
        "train_statments[0]"
      ],
      "metadata": {
        "id": "bFiVGK3L1UYL"
      },
      "execution_count": null,
      "outputs": []
    },
    {
      "cell_type": "code",
      "execution_count": null,
      "metadata": {
        "id": "gIAq4N0FEdxH"
      },
      "outputs": [],
      "source": [
        "len(train_statments),len(train_labels),len(test_statments),len(test_labels)"
      ]
    },
    {
      "cell_type": "code",
      "execution_count": null,
      "metadata": {
        "id": "YeOPwcVwEfNT"
      },
      "outputs": [],
      "source": [
        "train_statments_words_count=[len(word)for word in train_statments]\n",
        "train_statments_words_count"
      ]
    },
    {
      "cell_type": "code",
      "execution_count": 14,
      "metadata": {
        "id": "A5m_EJ0sFYXd"
      },
      "outputs": [],
      "source": [
        "import matplotlib.pyplot as plt"
      ]
    },
    {
      "cell_type": "code",
      "execution_count": 15,
      "metadata": {
        "colab": {
          "base_uri": "https://localhost:8080/",
          "height": 472
        },
        "id": "uaDaUklGFsGy",
        "outputId": "f26023c3-0ae9-442f-dfc1-1bcf40945905"
      },
      "outputs": [
        {
          "output_type": "display_data",
          "data": {
            "text/plain": [
              "<Figure size 640x480 with 1 Axes>"
            ],
            "image/png": "[encoded data removed]"
          },
          "metadata": {}
        }
      ],
      "source": [
        "plt.hist(train_statments_words_count,bins=70)\n",
        "plt.xlabel('Number of words')\n",
        "plt.ylabel('Frequency')\n",
        "plt.title('Distribution of number of words in train statements')\n",
        "plt.show()"
      ]
    },
    {
      "cell_type": "code",
      "execution_count": null,
      "metadata": {
        "id": "wcWBQHQSFsFS"
      },
      "outputs": [],
      "source": [
        "statment_length=int(np.percentile(train_statments_words_count,95))\n",
        "statment_length"
      ]
    },
    {
      "cell_type": "code",
      "execution_count": null,
      "metadata": {
        "id": "3SKCNrnKGVWa"
      },
      "outputs": [],
      "source": [
        "\n",
        "vocab = set()\n",
        "for statement in train_statments:\n",
        "  for word in statement.split():\n",
        "    vocab.add(word)\n",
        "\n",
        "print(f\"Number of unique words: {len(vocab)}\")\n"
      ]
    },
    {
      "cell_type": "code",
      "execution_count": 18,
      "metadata": {
        "id": "UegQiHxBGxPc"
      },
      "outputs": [],
      "source": [
        "vocabs_count= len(vocab)"
      ]
    },
    {
      "cell_type": "code",
      "execution_count": null,
      "metadata": {
        "id": "hZv51jeiHUJV"
      },
      "outputs": [],
      "source": [
        "vocabs_count,statment_length"
      ]
    },
    {
      "cell_type": "code",
      "execution_count": 20,
      "metadata": {
        "id": "EplA0GdPHac-"
      },
      "outputs": [],
      "source": [
        "from tensorflow.keras.layers import TextVectorization ,Embedding"
      ]
    },
    {
      "cell_type": "code",
      "execution_count": null,
      "metadata": {
        "id": "sjY3E2tsIGSm"
      },
      "outputs": [],
      "source": [
        "text_vecto=TextVectorization(max_tokens=vocabs_count,\n",
        "                             output_sequence_length=statment_length,\n",
        "\n",
        "                             )"
      ]
    },
    {
      "cell_type": "code",
      "execution_count": null,
      "metadata": {
        "id": "Uu4UlrKQIDcm"
      },
      "outputs": [],
      "source": [
        "len(train_statments)"
      ]
    },
    {
      "cell_type": "code",
      "execution_count": null,
      "metadata": {
        "id": "GW91BexAI1j9"
      },
      "outputs": [],
      "source": [
        "text_vecto.adapt(train_statments[:200000])\n"
      ]
    },
    {
      "cell_type": "code",
      "execution_count": null,
      "metadata": {
        "id": "1Q-nqwceMFe2"
      },
      "outputs": [],
      "source": [
        "text_embed=Embedding(vocabs_count,\n",
        "                     statment_length,\n",
        "                     mask_zero=True\n",
        "                     )"
      ]
    },
    {
      "cell_type": "code",
      "execution_count": null,
      "metadata": {
        "id": "8aaLH0YWM12P"
      },
      "outputs": [],
      "source": [
        "text_vecto.get_config()"
      ]
    },
    {
      "cell_type": "code",
      "execution_count": null,
      "metadata": {
        "id": "lgDf3XSqN22k"
      },
      "outputs": [],
      "source": [
        "train_labels[:5]"
      ]
    },
    {
      "cell_type": "code",
      "execution_count": null,
      "metadata": {
        "id": "ayYc66MnqaCE"
      },
      "outputs": [],
      "source": [
        "from sklearn.preprocessing import OneHotEncoder\n",
        "one_hot_encoder = OneHotEncoder(sparse=False)\n",
        "train_labels_one_hot = one_hot_encoder.fit_transform(train_samples[\"target\"].to_numpy().reshape(-1, 1))\n",
        "test_labels_one_hot = one_hot_encoder.fit_transform(test_samples[\"target\"].to_numpy().reshape(-1, 1))\n",
        "\n",
        "\n",
        "class_names = one_hot_encoder.categories_"
      ]
    },
    {
      "cell_type": "code",
      "source": [
        "class_names"
      ],
      "metadata": {
        "id": "u0dMcDDIN5Mn"
      },
      "execution_count": null,
      "outputs": []
    },
    {
      "cell_type": "code",
      "execution_count": null,
      "metadata": {
        "id": "fy0cAht2iJ-D"
      },
      "outputs": [],
      "source": [
        "train_line_number=train_samples['line_number']\n",
        "test_line_number=test_samples['line_number']\n",
        "\n",
        "train_line_number_one_hot=tf.one_hot(train_line_number.to_numpy(),depth=15)\n",
        "test_line_number_one_hot=tf.one_hot(test_line_number.to_numpy(),depth=15)\n"
      ]
    },
    {
      "cell_type": "code",
      "execution_count": null,
      "metadata": {
        "id": "EtxdrC1jl_wq"
      },
      "outputs": [],
      "source": [
        "train_line_number_one_hot[0].shape"
      ]
    },
    {
      "cell_type": "code",
      "execution_count": null,
      "metadata": {
        "id": "kkWZSJjz_nAp"
      },
      "outputs": [],
      "source": [
        "\n",
        "\n",
        "train_data = tf.data.Dataset.from_tensor_slices(( train_statments,train_line_number_one_hot))\n",
        "train_labels_tensor = tf.data.Dataset.from_tensor_slices(train_labels_one_hot)\n",
        "train_full_data = tf.data.Dataset.zip((train_data, train_labels_tensor)).batch(32).prefetch(tf.data.AUTOTUNE)\n",
        "\n",
        "\n",
        "\n",
        "test_data = tf.data.Dataset.from_tensor_slices(( test_statments,test_line_number_one_hot))\n",
        "test_labels_tensor = tf.data.Dataset.from_tensor_slices(test_labels_one_hot)\n",
        "test_full_data = tf.data.Dataset.zip((test_data, test_labels_tensor)).batch(32).prefetch(tf.data.AUTOTUNE)\n",
        "\n"
      ]
    },
    {
      "cell_type": "code",
      "execution_count": null,
      "metadata": {
        "id": "jPbwZpGrNc3M"
      },
      "outputs": [],
      "source": [
        "import tensorflow as tf\n",
        "\n",
        "input_layer = tf.keras.layers.Input(shape=(1,), dtype='string', name=\"input_layer\")\n",
        "x = text_vecto(input_layer)\n",
        "x = text_embed(x)\n",
        "x = tf.keras.layers.Conv1D(128, kernel_size=3, padding='same', activation='relu')(x)\n",
        "x = tf.keras.layers.Conv1D(64, kernel_size=3, padding='same', activation='relu')(x)\n",
        "output_layer = tf.keras.layers.Dense(64, activation='relu')(x)\n",
        "model_1 = tf.keras.models.Model(input_layer, output_layer)\n",
        "\n",
        "nd_input = tf.keras.layers.Input(shape=(15,))\n",
        "nd_output = tf.keras.layers.Dense(32, activation='relu')(nd_input)\n",
        "model_2 = tf.keras.models.Model(nd_input, nd_output)\n",
        "\n",
        "flatten_layer = tf.keras.layers.Flatten()(model_1.output)\n",
        "\n",
        "concatenated_output = tf.keras.layers.concatenate([flatten_layer, model_2.output])\n",
        "\n",
        "final_output_layer = tf.keras.layers.Dense(5, activation=\"softmax\", name=\"output_layer\")(concatenated_output)\n",
        "\n",
        "final_model = tf.keras.models.Model(inputs=[model_1.input, model_2.input], outputs=final_output_layer)\n",
        "\n",
        "\n",
        "final_model.compile(loss=\"categorical_crossentropy\", optimizer=\"adam\", metrics=[\"accuracy\"])\n",
        "\n",
        "history = final_model.fit(train_full_data,steps_per_epoch=int(len(train_full_data)*0.2),epochs=2)\n"
      ]
    },
    {
      "cell_type": "code",
      "source": [
        "final_model.summary()"
      ],
      "metadata": {
        "id": "qT3GpNEt7x0-"
      },
      "execution_count": null,
      "outputs": []
    },
    {
      "cell_type": "code",
      "execution_count": null,
      "metadata": {
        "id": "QyY1s7qmIPhJ"
      },
      "outputs": [],
      "source": [
        "final_model.evaluate(test_full_data)"
      ]
    },
    {
      "cell_type": "code",
      "execution_count": null,
      "metadata": {
        "id": "xA2EVBYFiXQW"
      },
      "outputs": [],
      "source": [
        "actual_class"
      ]
    },
    {
      "cell_type": "code",
      "source": [
        "\n",
        "final_model = tf.keras.models.load_model('/content/drive/MyDrive/final_model')\n"
      ],
      "metadata": {
        "id": "3BlGifIOyKwd"
      },
      "execution_count": 27,
      "outputs": []
    },
    {
      "cell_type": "code",
      "execution_count": null,
      "metadata": {
        "id": "ZuMousOzcKi3"
      },
      "outputs": [],
      "source": [
        "        import re\n",
        "        import pandas as pd\n",
        "        import tensorflow as tf\n",
        "        class_names = ['BACKGROUND', 'METHODS', 'RESULTS', 'CONCLUSIONS', 'OBJECTIVE']\n",
        "        message = \"\"\"Inhalational anthrax, a disease caused by inhaling Bacillus anthracis spores, leads to respiratory distress, vascular leakage, high-level bacteremia, and often death within days. Anthrax lethal toxin and edema toxin, which are composed of protective antigen (PA) plus either lethal factor (LF) or edema factor (EF), respectively, play an important yet incompletely defined role in the pulmonary pathophysiology. To better understand their contribution, we examined the structural integrity of the alveolar-capillary barrier in archival formalin-fixed lungs of cynomolgus monkeys challenged with the fully virulent B. anthracis Ames wild-type strain or the isogenic toxin-deficient mutants ΔEF, ΔLF, and ΔPA. Pulmonary spore challenge with the wild-type strain caused high mortality, intra-alveolar hemorrhages, extensive alveolar septal sequestration of bacteria and neutrophils, diffuse destabilization of epithelial and endothelial junctions, increased markers of coagulation and complement activation (including tissue factor and C5a), and multifocal intra-alveolar fibrin deposition. ΔEF challenge was lethal and showed similar alveolar-capillary alterations; however, intra-alveolar hemorrhages, bacterial deposition, and markers of coagulation or complement were absent or markedly lower. In contrast, ΔLF or ΔPA challenges were nonlethal and showed no signs of alveolar bacterial deposition or alveolar-capillary changes. These findings provide evidence that lethal toxin plays a determinative role in bacterial dissemination and alveolar-capillary barrier dysfunction, and edema toxin may significantly exacerbate pulmonary pathologies in a systemic infection.\"\"\"\n",
        "        sentences = re.split(r'(?<!\\d\\.\\d)(?<![A-Z][a-z]\\.)(?<=\\.|\\?)\\s', message)\n",
        "        sentences_frame = pd.DataFrame(sentences, columns=['statement'])\n",
        "\n",
        "        counter = 1\n",
        "        for index, row in sentences_frame.iterrows():\n",
        "            sentences_frame.at[index, 'line_number'] = counter\n",
        "            counter += 1\n",
        "\n",
        "        line_numbers = sentences_frame['line_number']\n",
        "        sentences=sentences_frame['statement']\n",
        "\n",
        "        preds = final_model.predict([sentences, tf.one_hot(line_numbers, depth=15)])\n",
        "\n",
        "        actual_class = []\n",
        "        for predss in preds:\n",
        "            actual_class.append(class_names[predss.argmax()])\n",
        "\n",
        "        sentences_frame['actual'] = actual_class\n",
        "\n",
        "        BACKGROUND = ''\n",
        "        METHODS = ''\n",
        "        RESULTS = ''\n",
        "        CONCLUSIONS = ''\n",
        "        OBJECTIVE = ''\n",
        "\n",
        "        for statement, _, actual in sentences_frame.itertuples(index=False):\n",
        "            if actual == 'BACKGROUND':\n",
        "                BACKGROUND += statement + '. '\n",
        "            elif actual == 'METHODS':\n",
        "                METHODS += statement + '. '\n",
        "            elif actual == 'RESULTS':\n",
        "                RESULTS += statement + '. '\n",
        "            elif actual == 'CONCLUSIONS':\n",
        "                CONCLUSIONS += statement + '. '\n",
        "            elif actual == 'OBJECTIVE':\n",
        "                OBJECTIVE += statement + '. '\n",
        "\n",
        "        response = {\n",
        "            'BACKGROUND': BACKGROUND,\n",
        "            'METHODS': METHODS,\n",
        "            'RESULTS': RESULTS,\n",
        "            'CONCLUSIONS': CONCLUSIONS,\n",
        "            'OBJECTIVE': OBJECTIVE\n",
        "        }\n",
        "        response"
      ]
    },
    {
      "cell_type": "code",
      "source": [],
      "metadata": {
        "id": "PgKL2QnKyVyE"
      },
      "execution_count": null,
      "outputs": []
    }
  ],
  "metadata": {
    "colab": {
      "provenance": [],
      "gpuType": "V28"
    },
    "kernelspec": {
      "display_name": "Python 3",
      "name": "python3"
    },
    "language_info": {
      "name": "python"
    },
    "accelerator": "TPU"
  },
  "nbformat": 4,
  "nbformat_minor": 0
}